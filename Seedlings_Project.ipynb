{
  "nbformat": 4,
  "nbformat_minor": 0,
  "metadata": {
    "colab": {
      "name": "Seedlings Project",
      "version": "0.3.2",
      "provenance": [],
      "collapsed_sections": []
    },
    "kernelspec": {
      "display_name": "Python 3",
      "language": "python",
      "name": "python3"
    },
    "accelerator": "GPU"
  },
  "cells": [
    {
      "metadata": {
        "id": "xX6Q36O2kJVm",
        "colab_type": "text"
      },
      "cell_type": "markdown",
      "source": [
        "# Seedlings Project\n",
        "\n"
      ]
    },
    {
      "metadata": {
        "id": "ULeBtfU3XEa5",
        "colab_type": "code",
        "outputId": "bd0b3461-66a5-4261-8843-25dec33d6ad1",
        "colab": {
          "base_uri": "https://localhost:8080/",
          "height": 34
        }
      },
      "cell_type": "code",
      "source": [
        "!ls"
      ],
      "execution_count": 1,
      "outputs": [
        {
          "output_type": "stream",
          "text": [
            "sample_data\n"
          ],
          "name": "stdout"
        }
      ]
    },
    {
      "metadata": {
        "id": "ZYVaiBB0qZkb",
        "colab_type": "text"
      },
      "cell_type": "markdown",
      "source": [
        "## Testing for GPU \n",
        "\n",
        "\n",
        "To Test if you have GPU set up\n",
        "\n",
        "Run the Cell below\n",
        "\n",
        "if no GPU is found press Runtime (in the menu at the top) and choose \"Change Runtime Type\" to GPU"
      ]
    },
    {
      "metadata": {
        "id": "eW8daUuEqhcU",
        "colab_type": "code",
        "outputId": "aa7115e4-1fb1-4020-a474-84dfa96c3392",
        "colab": {
          "base_uri": "https://localhost:8080/",
          "height": 34
        }
      },
      "cell_type": "code",
      "source": [
        "import tensorflow as tf\n",
        "device_name = tf.test.gpu_device_name()\n",
        "if device_name != '/device:GPU:0':\n",
        "  raise SystemError('GPU device not found')\n",
        "print('Found GPU at: {}'.format(device_name))"
      ],
      "execution_count": 2,
      "outputs": [
        {
          "output_type": "stream",
          "text": [
            "Found GPU at: /device:GPU:0\n"
          ],
          "name": "stdout"
        }
      ]
    },
    {
      "metadata": {
        "id": "RtyHmiCDrD2u",
        "colab_type": "text"
      },
      "cell_type": "markdown",
      "source": [
        "## Download the data\n",
        "\n",
        "by placing ! infront we can run almost any linux shell command"
      ]
    },
    {
      "metadata": {
        "id": "VwLE-aaP61WU",
        "colab_type": "code",
        "outputId": "d01332d4-b7ec-472c-8b89-12dd6991900f",
        "colab": {
          "base_uri": "https://localhost:8080/",
          "height": 102
        }
      },
      "cell_type": "code",
      "source": [
        "!wget -qq https://www.dropbox.com/s/nwzfqtrplgbyi5m/v2-plant-seedlings-dataset.zip?dl=0 \n",
        "!unzip -qq v2-plant-seedlings-dataset.zip?dl=0 \n",
        "!rm v2-plant-seedlings-dataset.zip?dl=0 \n",
        "!ls"
      ],
      "execution_count": 3,
      "outputs": [
        {
          "output_type": "stream",
          "text": [
            " Black-grass\t    'Fat Hen'\t\t 'Shepherd’s Purse'\n",
            " Charlock\t    'Loose Silky-bent'\t 'Small-flowered Cranesbill'\n",
            " Cleavers\t     Maize\t\t 'Sugar beet'\n",
            "'Common Chickweed'   sample_data\n",
            "'Common wheat'\t    'Scentless Mayweed'\n"
          ],
          "name": "stdout"
        }
      ]
    },
    {
      "metadata": {
        "id": "ZAysGM3Jq3_K",
        "colab_type": "code",
        "outputId": "dadf0113-da43-42a2-884f-5666038d6de6",
        "colab": {
          "base_uri": "https://localhost:8080/",
          "height": 901
        }
      },
      "cell_type": "code",
      "source": [
        "!ls 'Sugar beet'"
      ],
      "execution_count": 4,
      "outputs": [
        {
          "output_type": "stream",
          "text": [
            "100.png  148.png  195.png  241.png  289.png  336.png  383.png  42.png\t58.png\n",
            "101.png  149.png  196.png  242.png  290.png  337.png  384.png  430.png\t59.png\n",
            "102.png  14.png   197.png  243.png  291.png  338.png  385.png  431.png\t5.png\n",
            "103.png  150.png  198.png  244.png  292.png  339.png  386.png  432.png\t60.png\n",
            "104.png  151.png  199.png  245.png  293.png  33.png   387.png  433.png\t61.png\n",
            "105.png  152.png  19.png   246.png  294.png  340.png  388.png  434.png\t62.png\n",
            "106.png  153.png  1.png    247.png  295.png  341.png  389.png  435.png\t63.png\n",
            "107.png  154.png  200.png  248.png  296.png  342.png  38.png   436.png\t64.png\n",
            "108.png  155.png  201.png  249.png  297.png  343.png  390.png  437.png\t65.png\n",
            "109.png  156.png  202.png  24.png   298.png  344.png  391.png  438.png\t66.png\n",
            "10.png\t 157.png  203.png  250.png  299.png  345.png  392.png  439.png\t67.png\n",
            "110.png  158.png  204.png  251.png  29.png   346.png  393.png  43.png\t68.png\n",
            "111.png  159.png  205.png  252.png  2.png    347.png  394.png  440.png\t69.png\n",
            "112.png  15.png   206.png  253.png  300.png  348.png  395.png  441.png\t6.png\n",
            "113.png  160.png  207.png  254.png  301.png  349.png  396.png  442.png\t70.png\n",
            "114.png  161.png  208.png  255.png  302.png  34.png   397.png  443.png\t71.png\n",
            "115.png  162.png  209.png  256.png  303.png  350.png  398.png  444.png\t72.png\n",
            "116.png  163.png  20.png   257.png  304.png  351.png  399.png  445.png\t73.png\n",
            "117.png  164.png  210.png  258.png  305.png  352.png  39.png   446.png\t74.png\n",
            "118.png  165.png  211.png  259.png  306.png  353.png  3.png    447.png\t75.png\n",
            "119.png  166.png  212.png  25.png   307.png  354.png  400.png  448.png\t76.png\n",
            "11.png\t 167.png  213.png  260.png  308.png  355.png  401.png  449.png\t77.png\n",
            "120.png  168.png  214.png  261.png  309.png  356.png  402.png  44.png\t78.png\n",
            "121.png  169.png  215.png  262.png  30.png   357.png  403.png  450.png\t79.png\n",
            "122.png  16.png   216.png  263.png  310.png  358.png  404.png  451.png\t7.png\n",
            "123.png  170.png  217.png  264.png  311.png  359.png  405.png  452.png\t80.png\n",
            "124.png  171.png  218.png  265.png  312.png  35.png   406.png  453.png\t81.png\n",
            "125.png  172.png  219.png  266.png  313.png  360.png  407.png  454.png\t82.png\n",
            "126.png  173.png  21.png   267.png  314.png  361.png  408.png  455.png\t83.png\n",
            "127.png  174.png  220.png  268.png  315.png  362.png  409.png  456.png\t84.png\n",
            "128.png  175.png  221.png  269.png  316.png  363.png  40.png   457.png\t85.png\n",
            "129.png  176.png  222.png  26.png   317.png  364.png  410.png  458.png\t86.png\n",
            "12.png\t 177.png  223.png  270.png  318.png  365.png  411.png  459.png\t87.png\n",
            "130.png  178.png  224.png  271.png  319.png  366.png  412.png  45.png\t88.png\n",
            "131.png  179.png  225.png  272.png  31.png   367.png  413.png  460.png\t89.png\n",
            "132.png  17.png   226.png  273.png  320.png  368.png  414.png  461.png\t8.png\n",
            "133.png  180.png  227.png  274.png  321.png  369.png  415.png  462.png\t90.png\n",
            "134.png  181.png  228.png  275.png  322.png  36.png   416.png  463.png\t91.png\n",
            "135.png  182.png  229.png  276.png  323.png  370.png  417.png  464.png\t92.png\n",
            "136.png  183.png  22.png   277.png  324.png  371.png  418.png  46.png\t93.png\n",
            "137.png  184.png  230.png  278.png  325.png  372.png  419.png  47.png\t94.png\n",
            "138.png  185.png  231.png  279.png  326.png  373.png  41.png   48.png\t95.png\n",
            "139.png  186.png  232.png  27.png   327.png  374.png  420.png  49.png\t96.png\n",
            "13.png\t 187.png  233.png  280.png  328.png  375.png  421.png  4.png\t97.png\n",
            "140.png  188.png  234.png  281.png  329.png  376.png  422.png  50.png\t98.png\n",
            "141.png  189.png  235.png  282.png  32.png   377.png  423.png  51.png\t99.png\n",
            "142.png  18.png   236.png  283.png  330.png  378.png  424.png  52.png\t9.png\n",
            "143.png  190.png  237.png  284.png  331.png  379.png  425.png  53.png\n",
            "144.png  191.png  238.png  285.png  332.png  37.png   426.png  54.png\n",
            "145.png  192.png  239.png  286.png  333.png  380.png  427.png  55.png\n",
            "146.png  193.png  23.png   287.png  334.png  381.png  428.png  56.png\n",
            "147.png  194.png  240.png  288.png  335.png  382.png  429.png  57.png\n"
          ],
          "name": "stdout"
        }
      ]
    },
    {
      "metadata": {
        "id": "T5XE5aUW_zdN",
        "colab_type": "code",
        "colab": {
          "base_uri": "https://localhost:8080/",
          "height": 34
        },
        "outputId": "3390f8e1-39b3-42bb-aaa6-6ed6381375a8"
      },
      "cell_type": "code",
      "source": [
        "%matplotlib inline\n",
        "import matplotlib.pyplot as plt\n",
        "\n",
        "import os, json\n",
        "from glob import glob\n",
        "import numpy as np\n",
        "\n",
        "import keras\n",
        "\n",
        "from tensorflow.keras import optimizers\n",
        "\n",
        "from tensorflow.keras.applications import InceptionV3\n",
        "from tensorflow.keras.applications.vgg16 import VGG16\n",
        "\n",
        "\n",
        "from tensorflow.python.keras.preprocessing import image\n",
        "from tensorflow.python.keras.preprocessing.image import ImageDataGenerator\n",
        "\n",
        "from tensorflow.python.keras.models import Model,load_model,Sequential\n",
        "\n",
        "from tensorflow.python.keras.layers import Dense, GlobalAveragePooling2D, Dropout,Flatten, Input, Conv2D, MaxPooling2D, Dropout, Flatten\n",
        "from tensorflow.python.keras import backend as K\n",
        "\n",
        "from tensorflow.keras.callbacks import ModelCheckpoint, Callback\n",
        "\n",
        "\n"
      ],
      "execution_count": 5,
      "outputs": [
        {
          "output_type": "stream",
          "text": [
            "Using TensorFlow backend.\n"
          ],
          "name": "stderr"
        }
      ]
    },
    {
      "metadata": {
        "id": "o5CFbu-1aewH",
        "colab_type": "code",
        "outputId": "131ea6f4-e1a6-4a23-fb12-cfaf66263063",
        "colab": {
          "base_uri": "https://localhost:8080/",
          "height": 68
        }
      },
      "cell_type": "code",
      "source": [
        "print(tf.__version__)\n",
        "print(tf.keras.__version__)\n",
        "print(keras.__version__)"
      ],
      "execution_count": 6,
      "outputs": [
        {
          "output_type": "stream",
          "text": [
            "1.13.1\n",
            "2.2.4-tf\n",
            "2.2.4\n"
          ],
          "name": "stdout"
        }
      ]
    },
    {
      "metadata": {
        "id": "2tcpqFpr_zdZ",
        "colab_type": "code",
        "colab": {}
      },
      "cell_type": "code",
      "source": [
        "# Set up some Hyperparameters\n",
        "\n",
        "batch_size = 32\n",
        "epochs = 10\n",
        "\n",
        "lr = 0.001"
      ],
      "execution_count": 0,
      "outputs": []
    },
    {
      "metadata": {
        "id": "_XvfNigOxxaH",
        "colab_type": "text"
      },
      "cell_type": "markdown",
      "source": [
        "## Converting raw files in folders into something we can feed into tf.data\n",
        "\n",
        "We use glob to get lists of the files in the directories and then convert them into dataframes and add in class numbers.\n",
        "\n",
        "We also then split them up so we have 10% for a testing set and the rest for training.\n",
        "\n",
        "finally we randomly shuffle them up\n",
        "\n"
      ]
    },
    {
      "metadata": {
        "id": "QobtrySBxCA8",
        "colab_type": "code",
        "outputId": "fa5dd0f9-0d0a-480f-e1e7-f840a7a4473b",
        "colab": {
          "base_uri": "https://localhost:8080/",
          "height": 34
        }
      },
      "cell_type": "code",
      "source": [
        "import glob\n",
        "import pandas as pd\n",
        "\n",
        "filenames_n0 = glob.glob('./Black-grass/*.png')\n",
        "filenames_n1 = glob.glob('./Charlock/*.png')\n",
        "filenames_n2 = glob.glob('./Cleavers/*.png')\n",
        "filenames_n3 = glob.glob('./Common Chickweed/*.png')\n",
        "filenames_n4 = glob.glob('./Common wheat/*.png')\n",
        "filenames_n5 = glob.glob('./Fat Hen/*.png')\n",
        "filenames_n6 = glob.glob('./Loose Silky-bent/*.png')\n",
        "filenames_n7 = glob.glob('./Maize/*.png')\n",
        "filenames_n8 = glob.glob('./Scentless Mayweed/*.png')\n",
        "filenames_n9 = glob.glob('./Shepherd’s Purse/*.png')\n",
        "filenames_n10 = glob.glob('./Small-flowered Cranesbill/*.png')\n",
        "filenames_n11 = glob.glob('./Sugar beet/*.png')\n",
        "\n",
        "names = ['Black-grass', 'Charlock','Cleavers','Common Chickweed','Common wheat',\n",
        "        'Fat Hen', 'Loose Silky-bent', 'Maize', 'Scentless Mayweed', 'Shepherd’s Purse', \n",
        "        'Small-flowered Cranesbill', 'Sugar beet']\n",
        "\n",
        "\n",
        "len(filenames_n1)\n"
      ],
      "execution_count": 8,
      "outputs": [
        {
          "output_type": "execute_result",
          "data": {
            "text/plain": [
              "452"
            ]
          },
          "metadata": {
            "tags": []
          },
          "execution_count": 8
        }
      ]
    },
    {
      "metadata": {
        "id": "m3Kmgmy95PJ1",
        "colab_type": "code",
        "outputId": "60b348ce-172c-40a1-dde8-fbd8b144129f",
        "colab": {
          "base_uri": "https://localhost:8080/",
          "height": 187
        }
      },
      "cell_type": "code",
      "source": [
        "filenames_n3[:10]"
      ],
      "execution_count": 9,
      "outputs": [
        {
          "output_type": "execute_result",
          "data": {
            "text/plain": [
              "['./Common Chickweed/168.png',\n",
              " './Common Chickweed/485.png',\n",
              " './Common Chickweed/313.png',\n",
              " './Common Chickweed/644.png',\n",
              " './Common Chickweed/472.png',\n",
              " './Common Chickweed/299.png',\n",
              " './Common Chickweed/464.png',\n",
              " './Common Chickweed/67.png',\n",
              " './Common Chickweed/501.png',\n",
              " './Common Chickweed/516.png']"
            ]
          },
          "metadata": {
            "tags": []
          },
          "execution_count": 9
        }
      ]
    },
    {
      "metadata": {
        "id": "eZNXVAPQ5mlz",
        "colab_type": "code",
        "outputId": "3edfa8b0-0000-4987-a416-94be3b616e3a",
        "colab": {
          "base_uri": "https://localhost:8080/",
          "height": 204
        }
      },
      "cell_type": "code",
      "source": [
        "# Make a dataframe based on the filenames\n",
        "df = pd.DataFrame(filenames_n0, columns = [\"filename\"])\n",
        "df1 = pd.DataFrame(filenames_n1, columns = [\"filename\"])\n",
        "df2 = pd.DataFrame(filenames_n2, columns = [\"filename\"])\n",
        "df3 = pd.DataFrame(filenames_n3, columns = [\"filename\"])\n",
        "df4 = pd.DataFrame(filenames_n4, columns = [\"filename\"])\n",
        "df5 = pd.DataFrame(filenames_n5, columns = [\"filename\"])\n",
        "df6 = pd.DataFrame(filenames_n6, columns = [\"filename\"])\n",
        "df7 = pd.DataFrame(filenames_n7, columns = [\"filename\"])\n",
        "df8 = pd.DataFrame(filenames_n8, columns = [\"filename\"])\n",
        "df9 = pd.DataFrame(filenames_n9, columns = [\"filename\"])\n",
        "df10 = pd.DataFrame(filenames_n10, columns = [\"filename\"])\n",
        "df11 = pd.DataFrame(filenames_n11, columns = [\"filename\"])\n",
        "\n",
        "df.head()"
      ],
      "execution_count": 10,
      "outputs": [
        {
          "output_type": "execute_result",
          "data": {
            "text/html": [
              "<div>\n",
              "<style scoped>\n",
              "    .dataframe tbody tr th:only-of-type {\n",
              "        vertical-align: middle;\n",
              "    }\n",
              "\n",
              "    .dataframe tbody tr th {\n",
              "        vertical-align: top;\n",
              "    }\n",
              "\n",
              "    .dataframe thead th {\n",
              "        text-align: right;\n",
              "    }\n",
              "</style>\n",
              "<table border=\"1\" class=\"dataframe\">\n",
              "  <thead>\n",
              "    <tr style=\"text-align: right;\">\n",
              "      <th></th>\n",
              "      <th>filename</th>\n",
              "    </tr>\n",
              "  </thead>\n",
              "  <tbody>\n",
              "    <tr>\n",
              "      <th>0</th>\n",
              "      <td>./Black-grass/313.png</td>\n",
              "    </tr>\n",
              "    <tr>\n",
              "      <th>1</th>\n",
              "      <td>./Black-grass/67.png</td>\n",
              "    </tr>\n",
              "    <tr>\n",
              "      <th>2</th>\n",
              "      <td>./Black-grass/68.png</td>\n",
              "    </tr>\n",
              "    <tr>\n",
              "      <th>3</th>\n",
              "      <td>./Black-grass/329.png</td>\n",
              "    </tr>\n",
              "    <tr>\n",
              "      <th>4</th>\n",
              "      <td>./Black-grass/273.png</td>\n",
              "    </tr>\n",
              "  </tbody>\n",
              "</table>\n",
              "</div>"
            ],
            "text/plain": [
              "                filename\n",
              "0  ./Black-grass/313.png\n",
              "1   ./Black-grass/67.png\n",
              "2   ./Black-grass/68.png\n",
              "3  ./Black-grass/329.png\n",
              "4  ./Black-grass/273.png"
            ]
          },
          "metadata": {
            "tags": []
          },
          "execution_count": 10
        }
      ]
    },
    {
      "metadata": {
        "id": "hPQ71vTj50S3",
        "colab_type": "code",
        "colab": {}
      },
      "cell_type": "code",
      "source": [
        "\n",
        "# Add Class columns \n",
        "df['class'] = pd.Series([0 for x in range(len(df.index))], index=df.index)\n",
        "df1['class'] = pd.Series([1 for x in range(len(df1.index))], index=df1.index)\n",
        "df2['class'] = pd.Series([2 for x in range(len(df2.index))], index=df2.index)\n",
        "df3['class'] = pd.Series([3 for x in range(len(df3.index))], index=df3.index)\n",
        "df4['class'] = pd.Series([4 for x in range(len(df4.index))], index=df4.index)\n",
        "df5['class'] = pd.Series([5 for x in range(len(df5.index))], index=df5.index)\n",
        "df6['class'] = pd.Series([6 for x in range(len(df6.index))], index=df6.index)\n",
        "df7['class'] = pd.Series([7 for x in range(len(df7.index))], index=df7.index)\n",
        "df8['class'] = pd.Series([8 for x in range(len(df8.index))], index=df8.index)\n",
        "df9['class'] = pd.Series([9 for x in range(len(df9.index))], index=df9.index)\n",
        "df10['class'] = pd.Series([10 for x in range(len(df10.index))], index=df10.index)\n",
        "df11['class'] = pd.Series([11 for x in range(len(df11.index))], index=df11.index)"
      ],
      "execution_count": 0,
      "outputs": []
    },
    {
      "metadata": {
        "id": "2XcRSeZf6PP6",
        "colab_type": "code",
        "outputId": "04a211fa-f442-4d3a-dd4a-c2b2f4b994e8",
        "colab": {
          "base_uri": "https://localhost:8080/",
          "height": 204
        }
      },
      "cell_type": "code",
      "source": [
        "df3.head()"
      ],
      "execution_count": 12,
      "outputs": [
        {
          "output_type": "execute_result",
          "data": {
            "text/html": [
              "<div>\n",
              "<style scoped>\n",
              "    .dataframe tbody tr th:only-of-type {\n",
              "        vertical-align: middle;\n",
              "    }\n",
              "\n",
              "    .dataframe tbody tr th {\n",
              "        vertical-align: top;\n",
              "    }\n",
              "\n",
              "    .dataframe thead th {\n",
              "        text-align: right;\n",
              "    }\n",
              "</style>\n",
              "<table border=\"1\" class=\"dataframe\">\n",
              "  <thead>\n",
              "    <tr style=\"text-align: right;\">\n",
              "      <th></th>\n",
              "      <th>filename</th>\n",
              "      <th>class</th>\n",
              "    </tr>\n",
              "  </thead>\n",
              "  <tbody>\n",
              "    <tr>\n",
              "      <th>0</th>\n",
              "      <td>./Common Chickweed/168.png</td>\n",
              "      <td>3</td>\n",
              "    </tr>\n",
              "    <tr>\n",
              "      <th>1</th>\n",
              "      <td>./Common Chickweed/485.png</td>\n",
              "      <td>3</td>\n",
              "    </tr>\n",
              "    <tr>\n",
              "      <th>2</th>\n",
              "      <td>./Common Chickweed/313.png</td>\n",
              "      <td>3</td>\n",
              "    </tr>\n",
              "    <tr>\n",
              "      <th>3</th>\n",
              "      <td>./Common Chickweed/644.png</td>\n",
              "      <td>3</td>\n",
              "    </tr>\n",
              "    <tr>\n",
              "      <th>4</th>\n",
              "      <td>./Common Chickweed/472.png</td>\n",
              "      <td>3</td>\n",
              "    </tr>\n",
              "  </tbody>\n",
              "</table>\n",
              "</div>"
            ],
            "text/plain": [
              "                     filename  class\n",
              "0  ./Common Chickweed/168.png      3\n",
              "1  ./Common Chickweed/485.png      3\n",
              "2  ./Common Chickweed/313.png      3\n",
              "3  ./Common Chickweed/644.png      3\n",
              "4  ./Common Chickweed/472.png      3"
            ]
          },
          "metadata": {
            "tags": []
          },
          "execution_count": 12
        }
      ]
    },
    {
      "metadata": {
        "id": "np0evwidsszq",
        "colab_type": "code",
        "colab": {}
      },
      "cell_type": "code",
      "source": [
        "\n",
        "\n",
        "# Split into train and validation sets\n",
        "train_set_percentage = .9\n",
        "\n",
        "train_df = df[:int(len(df)*train_set_percentage)]\n",
        "val_df = df[int(len(df)*train_set_percentage):]\n",
        "\n",
        "train_df1 = df[:int(len(df1)*train_set_percentage)]\n",
        "val_df1 = df[int(len(df1)*train_set_percentage):]\n",
        "\n",
        "train_df2 = df2[:int(len(df2)*train_set_percentage)]\n",
        "val_df2 = df2[int(len(df2)*train_set_percentage):]\n",
        "\n",
        "train_df3 = df3[:int(len(df3)*train_set_percentage)]\n",
        "val_df3 = df3[int(len(df3)*train_set_percentage):]\n",
        "\n",
        "train_df4 = df4[:int(len(df4)*train_set_percentage)]\n",
        "val_df4 = df4[int(len(df4)*train_set_percentage):]\n",
        "\n",
        "train_df5 = df5[:int(len(df5)*train_set_percentage)]\n",
        "val_df5 = df5[int(len(df5)*train_set_percentage):]\n",
        "\n",
        "train_df6 = df6[:int(len(df6)*train_set_percentage)]\n",
        "val_df6 = df6[int(len(df6)*train_set_percentage):]\n",
        "\n",
        "train_df7 = df7[:int(len(df7)*train_set_percentage)]\n",
        "val_df7 = df7[int(len(df7)*train_set_percentage):]\n",
        "\n",
        "train_df8 = df8[:int(len(df8)*train_set_percentage)]\n",
        "val_df8 = df8[int(len(df8)*train_set_percentage):]\n",
        "\n",
        "train_df9 = df9[:int(len(df9)*train_set_percentage)]\n",
        "val_df9 = df9[int(len(df9)*train_set_percentage):]\n",
        "\n",
        "train_df10 = df10[:int(len(df10)*train_set_percentage)]\n",
        "val_df10 = df10[int(len(df10)*train_set_percentage):]\n",
        "\n",
        "train_df11 = df11[:int(len(df11)*train_set_percentage)]\n",
        "val_df11 = df11[int(len(df11)*train_set_percentage):]\n",
        "\n",
        "\n",
        "df_new_train = pd.concat([train_df, train_df1, train_df2, train_df3, train_df4, \n",
        "                          train_df5, train_df6, train_df7, train_df8, train_df9,\n",
        "                          train_df10, train_df11])\n",
        "df_new_val = pd.concat([val_df, val_df1, val_df2, val_df3, val_df4, val_df5,\n",
        "                       val_df6, val_df7, val_df8, val_df9, val_df10,\n",
        "                       val_df11])\n",
        "\n",
        "df_new_train.shape\n",
        "\n",
        "#shuffle\n",
        "df = df_new_train.sample(frac=1).reset_index(drop=True)\n",
        "df_val = df_new_val.sample(frac=1).reset_index(drop=True)"
      ],
      "execution_count": 0,
      "outputs": []
    },
    {
      "metadata": {
        "id": "g8iijfm2Bgwd",
        "colab_type": "text"
      },
      "cell_type": "markdown",
      "source": [
        "# Examine the Dataset\n",
        "\n",
        "lets look at what we have now. "
      ]
    },
    {
      "metadata": {
        "id": "bgzNER_RgR2G",
        "colab_type": "code",
        "outputId": "374912c9-65cf-4a47-f472-c235ba3b8123",
        "colab": {
          "base_uri": "https://localhost:8080/",
          "height": 204
        }
      },
      "cell_type": "code",
      "source": [
        "df.head()"
      ],
      "execution_count": 14,
      "outputs": [
        {
          "output_type": "execute_result",
          "data": {
            "text/html": [
              "<div>\n",
              "<style scoped>\n",
              "    .dataframe tbody tr th:only-of-type {\n",
              "        vertical-align: middle;\n",
              "    }\n",
              "\n",
              "    .dataframe tbody tr th {\n",
              "        vertical-align: top;\n",
              "    }\n",
              "\n",
              "    .dataframe thead th {\n",
              "        text-align: right;\n",
              "    }\n",
              "</style>\n",
              "<table border=\"1\" class=\"dataframe\">\n",
              "  <thead>\n",
              "    <tr style=\"text-align: right;\">\n",
              "      <th></th>\n",
              "      <th>filename</th>\n",
              "      <th>class</th>\n",
              "    </tr>\n",
              "  </thead>\n",
              "  <tbody>\n",
              "    <tr>\n",
              "      <th>0</th>\n",
              "      <td>./Fat Hen/148.png</td>\n",
              "      <td>5</td>\n",
              "    </tr>\n",
              "    <tr>\n",
              "      <th>1</th>\n",
              "      <td>./Maize/66.png</td>\n",
              "      <td>7</td>\n",
              "    </tr>\n",
              "    <tr>\n",
              "      <th>2</th>\n",
              "      <td>./Common wheat/192.png</td>\n",
              "      <td>4</td>\n",
              "    </tr>\n",
              "    <tr>\n",
              "      <th>3</th>\n",
              "      <td>./Shepherd’s Purse/140.png</td>\n",
              "      <td>9</td>\n",
              "    </tr>\n",
              "    <tr>\n",
              "      <th>4</th>\n",
              "      <td>./Loose Silky-bent/780.png</td>\n",
              "      <td>6</td>\n",
              "    </tr>\n",
              "  </tbody>\n",
              "</table>\n",
              "</div>"
            ],
            "text/plain": [
              "                     filename  class\n",
              "0           ./Fat Hen/148.png      5\n",
              "1              ./Maize/66.png      7\n",
              "2      ./Common wheat/192.png      4\n",
              "3  ./Shepherd’s Purse/140.png      9\n",
              "4  ./Loose Silky-bent/780.png      6"
            ]
          },
          "metadata": {
            "tags": []
          },
          "execution_count": 14
        }
      ]
    },
    {
      "metadata": {
        "id": "GoZcB_0l2AnN",
        "colab_type": "code",
        "outputId": "6ca20d85-b8c5-40ff-b463-3efb8ce7eabe",
        "colab": {
          "base_uri": "https://localhost:8080/",
          "height": 68
        }
      },
      "cell_type": "code",
      "source": [
        "print(df.shape)\n",
        "print(df_val.shape)\n",
        "\n",
        "df['class'].unique()"
      ],
      "execution_count": 15,
      "outputs": [
        {
          "output_type": "stream",
          "text": [
            "(4882, 2)\n",
            "(514, 2)\n"
          ],
          "name": "stdout"
        },
        {
          "output_type": "execute_result",
          "data": {
            "text/plain": [
              "array([ 5,  7,  4,  9,  6,  0,  3,  8,  2, 11, 10])"
            ]
          },
          "metadata": {
            "tags": []
          },
          "execution_count": 15
        }
      ]
    },
    {
      "metadata": {
        "id": "vtJNPfWianjs",
        "colab_type": "code",
        "outputId": "4366b6e8-7e14-4407-807c-c08565e9c482",
        "colab": {
          "base_uri": "https://localhost:8080/",
          "height": 485
        }
      },
      "cell_type": "code",
      "source": [
        "print(df['class'].value_counts())\n",
        "\n",
        "\n",
        "ax = df['class'].value_counts().plot.barh()\n",
        "ax.set_xlabel(\"Number of Examples\", fontsize=12)\n",
        "ax.set_ylabel(\"Seedlings - training set\", fontsize=12)\n",
        "ax.set_yticklabels(['Black-grass', 'Charlock','Cleavers','Common Chickweed','Common wheat',\n",
        "        'Fat Hen', 'Loose Silky-bent', 'Maize', 'Scentless Mayweed', 'Shepherd’s Purse', \n",
        "        'Small-flowered Cranesbill', 'Sugar beet'], rotation=0, fontsize=12)\n",
        "plt.show()"
      ],
      "execution_count": 16,
      "outputs": [
        {
          "output_type": "stream",
          "text": [
            "6     685\n",
            "3     641\n",
            "0     587\n",
            "8     546\n",
            "10    518\n",
            "5     484\n",
            "11    416\n",
            "2     301\n",
            "9     246\n",
            "7     231\n",
            "4     227\n",
            "Name: class, dtype: int64\n"
          ],
          "name": "stdout"
        },
        {
          "output_type": "display_data",
          "data": {
            "image/png": "[encoded data removed]",
            "text/plain": [
              "<Figure size 432x288 with 1 Axes>"
            ]
          },
          "metadata": {
            "tags": []
          }
        }
      ]
    },
    {
      "metadata": {
        "id": "w5g4Hrt13t1N",
        "colab_type": "code",
        "outputId": "6ab315eb-c769-4420-e7fd-9ba409fca1f4",
        "colab": {
          "base_uri": "https://localhost:8080/",
          "height": 34
        }
      },
      "cell_type": "code",
      "source": [
        "# convert the dataframe into 2 lists to use for filename and labels\n",
        "train_filenames_list = df[\"filename\"].tolist()\n",
        "train_labels_list = df[\"class\"].astype('int32').tolist()\n",
        "\n",
        "# convert the dataframe into 2 lists to use for filename and labels\n",
        "val_filenames_list = df_val[\"filename\"].tolist()\n",
        "val_labels_list = df_val[\"class\"].astype('int32').tolist()\n",
        "\n",
        "#number of classes\n",
        "num_classes = 5\n",
        "\n",
        "df.shape"
      ],
      "execution_count": 17,
      "outputs": [
        {
          "output_type": "execute_result",
          "data": {
            "text/plain": [
              "(4882, 2)"
            ]
          },
          "metadata": {
            "tags": []
          },
          "execution_count": 17
        }
      ]
    },
    {
      "metadata": {
        "id": "3t5kYeBmCnE_",
        "colab_type": "text"
      },
      "cell_type": "markdown",
      "source": [
        "## Make the pipeline for loading and resizing the images"
      ]
    },
    {
      "metadata": {
        "id": "qd2z9MxO4Pk4",
        "colab_type": "code",
        "colab": {}
      },
      "cell_type": "code",
      "source": [
        "# Reads an image from a file, decodes it into a tensor, and resizes it\n",
        "# to a fixed shape.\n",
        "img_rows, img_cols = 299,299\n",
        "\n",
        "def _parse_function(filename, label):\n",
        "  image_string = tf.read_file(filename)\n",
        "  image_decoded = tf.image.decode_png(image_string, channels=3)\n",
        "  image_resized = tf.image.resize_images(image_decoded, [img_rows, img_cols])\n",
        "  label = tf.one_hot(label, num_classes)\n",
        "  return image_resized, label"
      ],
      "execution_count": 0,
      "outputs": []
    },
    {
      "metadata": {
        "id": "NgMkC5xh4UIx",
        "colab_type": "code",
        "colab": {}
      },
      "cell_type": "code",
      "source": [
        "# A vector of filenames - from a list\n",
        "filenames = tf.constant(train_filenames_list)\n",
        "\n",
        "# Labels that match the training files - from a list\n",
        "labels = tf.constant(train_labels_list)\n",
        "\n",
        "# Same as above but for validation set\n",
        "val_filenames = tf.constant(val_filenames_list)\n",
        "val_labels = tf.constant(val_labels_list)"
      ],
      "execution_count": 0,
      "outputs": []
    },
    {
      "metadata": {
        "id": "8BKNOIQik8An",
        "colab_type": "text"
      },
      "cell_type": "markdown",
      "source": [
        "## Assembling the Data pipeline using tf.data"
      ]
    },
    {
      "metadata": {
        "id": "0fuB6eAp4XUd",
        "colab_type": "code",
        "colab": {}
      },
      "cell_type": "code",
      "source": [
        "train_dataset = tf.data.Dataset.from_tensor_slices((filenames, labels))\n",
        "train_dataset = train_dataset.map(_parse_function)\n",
        "train_dataset = train_dataset.repeat(100)\n",
        "train_dataset = train_dataset.batch(32)"
      ],
      "execution_count": 0,
      "outputs": []
    },
    {
      "metadata": {
        "id": "A5amnR4ah4n3",
        "colab_type": "code",
        "colab": {}
      },
      "cell_type": "code",
      "source": [
        "valid_dataset = tf.data.Dataset.from_tensor_slices((val_filenames, val_labels))\n",
        "valid_dataset = valid_dataset.map(_parse_function)\n",
        "valid_dataset = valid_dataset.repeat(100)\n",
        "valid_dataset = valid_dataset.batch(32)"
      ],
      "execution_count": 0,
      "outputs": []
    },
    {
      "metadata": {
        "id": "hZEKYeWnv_AH",
        "colab_type": "code",
        "colab": {}
      },
      "cell_type": "code",
      "source": [
        ""
      ],
      "execution_count": 0,
      "outputs": []
    },
    {
      "metadata": {
        "id": "ImnEoNhP_zdf",
        "colab_type": "text"
      },
      "cell_type": "markdown",
      "source": [
        "## Create the network\n",
        "\n",
        "\n"
      ]
    },
    {
      "metadata": {
        "id": "erIuoD4acbXb",
        "colab_type": "text"
      },
      "cell_type": "markdown",
      "source": [
        ""
      ]
    },
    {
      "metadata": {
        "id": "lDgNpUSK_zdg",
        "colab_type": "code",
        "outputId": "546c9b1f-a843-4460-fe04-cd258a792e05",
        "colab": {
          "base_uri": "https://localhost:8080/",
          "height": 122
        }
      },
      "cell_type": "code",
      "source": [
        "# InceptionV3 Model - trained on image net\n",
        "# Base model\n",
        "base_model = InceptionV3(weights='imagenet', include_top=False)"
      ],
      "execution_count": 22,
      "outputs": [
        {
          "output_type": "stream",
          "text": [
            "WARNING:tensorflow:From /usr/local/lib/python3.6/dist-packages/tensorflow/python/ops/resource_variable_ops.py:435: colocate_with (from tensorflow.python.framework.ops) is deprecated and will be removed in a future version.\n",
            "Instructions for updating:\n",
            "Colocations handled automatically by placer.\n",
            "Downloading data from https://github.com/fchollet/deep-learning-models/releases/download/v0.5/inception_v3_weights_tf_dim_ordering_tf_kernels_notop.h5\n",
            "87916544/87910968 [==============================] - 2s 0us/step\n"
          ],
          "name": "stdout"
        }
      ]
    },
    {
      "metadata": {
        "id": "EabM6z9h_zdj",
        "colab_type": "code",
        "colab": {}
      },
      "cell_type": "code",
      "source": [
        "#model.summary()"
      ],
      "execution_count": 0,
      "outputs": []
    },
    {
      "metadata": {
        "id": "UGUW2t5AkXNQ",
        "colab_type": "code",
        "outputId": "4b367356-78cb-4e23-9174-b5aa4cbf187a",
        "colab": {
          "base_uri": "https://localhost:8080/",
          "height": 1615
        }
      },
      "cell_type": "code",
      "source": [
        "# If you use InceptionV3 you must freeze the weights layers but not batchnorm layers: un comment the following\n",
        "\n",
        "# Freeze the InceptionV3 layers except the BatchNorm\n",
        "for layer in base_model.layers:\n",
        "    if 'batch' in layer.name:\n",
        "#       print(layer.name)\n",
        "      layer.trainable = True\n",
        "    else:\n",
        "      layer.trainable = False "
      ],
      "execution_count": 24,
      "outputs": [
        {
          "output_type": "stream",
          "text": [
            "batch_normalization_v1\n",
            "batch_normalization_v1_1\n",
            "batch_normalization_v1_2\n",
            "batch_normalization_v1_3\n",
            "batch_normalization_v1_4\n",
            "batch_normalization_v1_8\n",
            "batch_normalization_v1_6\n",
            "batch_normalization_v1_9\n",
            "batch_normalization_v1_5\n",
            "batch_normalization_v1_7\n",
            "batch_normalization_v1_10\n",
            "batch_normalization_v1_11\n",
            "batch_normalization_v1_15\n",
            "batch_normalization_v1_13\n",
            "batch_normalization_v1_16\n",
            "batch_normalization_v1_12\n",
            "batch_normalization_v1_14\n",
            "batch_normalization_v1_17\n",
            "batch_normalization_v1_18\n",
            "batch_normalization_v1_22\n",
            "batch_normalization_v1_20\n",
            "batch_normalization_v1_23\n",
            "batch_normalization_v1_19\n",
            "batch_normalization_v1_21\n",
            "batch_normalization_v1_24\n",
            "batch_normalization_v1_25\n",
            "batch_normalization_v1_27\n",
            "batch_normalization_v1_28\n",
            "batch_normalization_v1_26\n",
            "batch_normalization_v1_29\n",
            "batch_normalization_v1_34\n",
            "batch_normalization_v1_35\n",
            "batch_normalization_v1_31\n",
            "batch_normalization_v1_36\n",
            "batch_normalization_v1_32\n",
            "batch_normalization_v1_37\n",
            "batch_normalization_v1_30\n",
            "batch_normalization_v1_33\n",
            "batch_normalization_v1_38\n",
            "batch_normalization_v1_39\n",
            "batch_normalization_v1_44\n",
            "batch_normalization_v1_45\n",
            "batch_normalization_v1_41\n",
            "batch_normalization_v1_46\n",
            "batch_normalization_v1_42\n",
            "batch_normalization_v1_47\n",
            "batch_normalization_v1_40\n",
            "batch_normalization_v1_43\n",
            "batch_normalization_v1_48\n",
            "batch_normalization_v1_49\n",
            "batch_normalization_v1_54\n",
            "batch_normalization_v1_55\n",
            "batch_normalization_v1_51\n",
            "batch_normalization_v1_56\n",
            "batch_normalization_v1_52\n",
            "batch_normalization_v1_57\n",
            "batch_normalization_v1_50\n",
            "batch_normalization_v1_53\n",
            "batch_normalization_v1_58\n",
            "batch_normalization_v1_59\n",
            "batch_normalization_v1_64\n",
            "batch_normalization_v1_65\n",
            "batch_normalization_v1_61\n",
            "batch_normalization_v1_66\n",
            "batch_normalization_v1_62\n",
            "batch_normalization_v1_67\n",
            "batch_normalization_v1_60\n",
            "batch_normalization_v1_63\n",
            "batch_normalization_v1_68\n",
            "batch_normalization_v1_69\n",
            "batch_normalization_v1_72\n",
            "batch_normalization_v1_73\n",
            "batch_normalization_v1_70\n",
            "batch_normalization_v1_74\n",
            "batch_normalization_v1_71\n",
            "batch_normalization_v1_75\n",
            "batch_normalization_v1_80\n",
            "batch_normalization_v1_77\n",
            "batch_normalization_v1_81\n",
            "batch_normalization_v1_78\n",
            "batch_normalization_v1_79\n",
            "batch_normalization_v1_82\n",
            "batch_normalization_v1_83\n",
            "batch_normalization_v1_76\n",
            "batch_normalization_v1_84\n",
            "batch_normalization_v1_89\n",
            "batch_normalization_v1_86\n",
            "batch_normalization_v1_90\n",
            "batch_normalization_v1_87\n",
            "batch_normalization_v1_88\n",
            "batch_normalization_v1_91\n",
            "batch_normalization_v1_92\n",
            "batch_normalization_v1_85\n",
            "batch_normalization_v1_93\n"
          ],
          "name": "stdout"
        }
      ]
    },
    {
      "metadata": {
        "id": "8cYcYzYam2la",
        "colab_type": "text"
      },
      "cell_type": "markdown",
      "source": [
        "## Create a simple head for the model that we can train"
      ]
    },
    {
      "metadata": {
        "id": "D6jtoHPC_zdm",
        "colab_type": "code",
        "colab": {}
      },
      "cell_type": "code",
      "source": [
        "# add a global spatial average pooling layer\n",
        "x = base_model.output\n",
        "x = GlobalAveragePooling2D()(x)\n",
        "\n",
        "# let's add a fully-connected layer\n",
        "x = Dense(1024, activation='relu')(x)\n",
        "\n",
        "# classes for characters\n",
        "predictions = Dense(num_classes, activation='softmax')(x)"
      ],
      "execution_count": 0,
      "outputs": []
    },
    {
      "metadata": {
        "id": "mJNP12F8_zdo",
        "colab_type": "code",
        "colab": {}
      },
      "cell_type": "code",
      "source": [
        "# Creating the model that we will train\n",
        "model = Model(inputs=base_model.input, outputs=predictions)"
      ],
      "execution_count": 0,
      "outputs": []
    },
    {
      "metadata": {
        "id": "Fs1W-nVL_zdr",
        "colab_type": "code",
        "colab": {}
      },
      "cell_type": "code",
      "source": [
        "# Freeze the InceptionV3 layers except the BatchNorm\n",
        "for layer in base_model.layers:\n",
        "    if 'batch' in layer.name:\n",
        "#       print(layer.name)\n",
        "      layer.trainable = True\n",
        "    else:\n",
        "      layer.trainable = False "
      ],
      "execution_count": 0,
      "outputs": []
    },
    {
      "metadata": {
        "id": "UUdVpa6M_zdu",
        "colab_type": "code",
        "colab": {}
      },
      "cell_type": "code",
      "source": [
        ""
      ],
      "execution_count": 0,
      "outputs": []
    },
    {
      "metadata": {
        "id": "5MP4VH03D2ha",
        "colab_type": "text"
      },
      "cell_type": "markdown",
      "source": [
        "## Select an Optimizer "
      ]
    },
    {
      "metadata": {
        "id": "F5KfvfqeD7wZ",
        "colab_type": "code",
        "colab": {}
      },
      "cell_type": "code",
      "source": [
        "# creates the optimizer using a tensorFlow optimizer with lr setting the Learning Rate\n",
        "\n",
        "# tf.keras optimizer\n",
        "opt = optimizers.Adam(lr)\n",
        "\n",
        "# We could use a TensorFlow Optimizer but they can't save the weight as a whole\n",
        "# opt = tf.train.AdamOptimizer(lr)"
      ],
      "execution_count": 0,
      "outputs": []
    },
    {
      "metadata": {
        "id": "X1gLZ5eSD7fw",
        "colab_type": "text"
      },
      "cell_type": "markdown",
      "source": [
        "## Compile the model"
      ]
    },
    {
      "metadata": {
        "id": "3h5gZCzH_zdy",
        "colab_type": "code",
        "colab": {}
      },
      "cell_type": "code",
      "source": [
        "# compile the model \n",
        "\n",
        "model.compile(optimizer= opt, loss='categorical_crossentropy',metrics=['accuracy'])"
      ],
      "execution_count": 0,
      "outputs": []
    },
    {
      "metadata": {
        "id": "OKQLxTNKFLvS",
        "colab_type": "text"
      },
      "cell_type": "markdown",
      "source": [
        "## Call backs"
      ]
    },
    {
      "metadata": {
        "id": "43Qzm6qjin97",
        "colab_type": "code",
        "colab": {}
      },
      "cell_type": "code",
      "source": [
        "!mkdir checkpoints\n",
        "\n",
        "\n",
        "checkpoint = ModelCheckpoint('./checkpoints/weights_{epoch:02d}_{val_acc:.2f}.hdf5', verbose=1, save_best_only=True, mode='auto')"
      ],
      "execution_count": 0,
      "outputs": []
    },
    {
      "metadata": {
        "id": "e2VDv5mvFVc3",
        "colab_type": "text"
      },
      "cell_type": "markdown",
      "source": [
        "Steps = 3888 / batch_size"
      ]
    },
    {
      "metadata": {
        "id": "C7-8OgAFKsjA",
        "colab_type": "code",
        "outputId": "9708c23e-98de-4e60-c844-8e377c0f44a9",
        "colab": {
          "base_uri": "https://localhost:8080/",
          "height": 51
        }
      },
      "cell_type": "code",
      "source": [
        "train_steps = 100\n",
        "val_steps = 100\n",
        "epochs = 10\n",
        "\n",
        "print('train steps:',train_steps)\n",
        "print('val steps:',val_steps)"
      ],
      "execution_count": 31,
      "outputs": [
        {
          "output_type": "stream",
          "text": [
            "train steps: 100\n",
            "val steps: 100\n"
          ],
          "name": "stdout"
        }
      ]
    },
    {
      "metadata": {
        "id": "i2ln95MKEgiT",
        "colab_type": "text"
      },
      "cell_type": "markdown",
      "source": [
        "## Fit the model\n",
        "\n",
        "we pass in:\n",
        "- The training set\n",
        "- the steps for how many times we want to sample a batch to be one epoch\n",
        "- number of epochs\n",
        "- validation set\n",
        "- number of steps for validation"
      ]
    },
    {
      "metadata": {
        "id": "MNGsVdaDxYYw",
        "colab_type": "code",
        "outputId": "d14b65ae-9d25-49cb-e7e7-a88edda8adb5",
        "colab": {
          "base_uri": "https://localhost:8080/",
          "height": 768
        }
      },
      "cell_type": "code",
      "source": [
        "# # Train the model with validation \n",
        "history = model.fit( train_dataset, steps_per_epoch = train_steps,\n",
        "                   epochs = epochs,\n",
        "                   validation_data = valid_dataset,\n",
        "                   validation_steps = val_steps,\n",
        "                   callbacks=[checkpoint])"
      ],
      "execution_count": 32,
      "outputs": [
        {
          "output_type": "stream",
          "text": [
            "WARNING:tensorflow:From /usr/local/lib/python3.6/dist-packages/tensorflow/python/ops/math_ops.py:3066: to_int32 (from tensorflow.python.ops.math_ops) is deprecated and will be removed in a future version.\n",
            "Instructions for updating:\n",
            "Use tf.cast instead.\n",
            "Epoch 1/10\n",
            " 99/100 [============================>.] - ETA: 1s - loss: 0.2348 - acc: 0.4848\n",
            "Epoch 00001: val_loss improved from inf to 0.20149, saving model to ./checkpoints/weights_01_0.43.hdf5\n",
            "100/100 [==============================] - 201s 2s/step - loss: 0.2340 - acc: 0.4863 - val_loss: 0.2015 - val_acc: 0.4338\n",
            "Epoch 2/10\n",
            " 99/100 [============================>.] - ETA: 1s - loss: 0.1006 - acc: 0.5357\n",
            "Epoch 00002: val_loss improved from 0.20149 to 0.04287, saving model to ./checkpoints/weights_02_0.48.hdf5\n",
            "100/100 [==============================] - 151s 2s/step - loss: 0.0999 - acc: 0.5359 - val_loss: 0.0429 - val_acc: 0.4794\n",
            "Epoch 3/10\n",
            " 99/100 [============================>.] - ETA: 1s - loss: 0.0625 - acc: 0.5622\n",
            "Epoch 00003: val_loss did not improve from 0.04287\n",
            "100/100 [==============================] - 152s 2s/step - loss: 0.0622 - acc: 0.5619 - val_loss: 0.0493 - val_acc: 0.4913\n",
            "Epoch 4/10\n",
            " 99/100 [============================>.] - ETA: 1s - loss: 0.0420 - acc: 0.5805\n",
            "Epoch 00004: val_loss did not improve from 0.04287\n",
            "100/100 [==============================] - 151s 2s/step - loss: 0.0417 - acc: 0.5806 - val_loss: 0.0482 - val_acc: 0.4581\n",
            "Epoch 5/10\n",
            " 99/100 [============================>.] - ETA: 0s - loss: 0.0284 - acc: 0.5748\n",
            "Epoch 00005: val_loss improved from 0.04287 to 0.03155, saving model to ./checkpoints/weights_05_0.49.hdf5\n",
            "100/100 [==============================] - 151s 2s/step - loss: 0.0283 - acc: 0.5741 - val_loss: 0.0316 - val_acc: 0.4859\n",
            "Epoch 6/10\n",
            " 99/100 [============================>.] - ETA: 1s - loss: 0.0319 - acc: 0.5666\n",
            "Epoch 00006: val_loss did not improve from 0.03155\n",
            "100/100 [==============================] - 151s 2s/step - loss: 0.0316 - acc: 0.5681 - val_loss: 0.0982 - val_acc: 0.5800\n",
            "Epoch 7/10\n",
            " 99/100 [============================>.] - ETA: 1s - loss: 0.0126 - acc: 0.5647\n",
            "Epoch 00007: val_loss improved from 0.03155 to 0.03125, saving model to ./checkpoints/weights_07_0.52.hdf5\n",
            "100/100 [==============================] - 153s 2s/step - loss: 0.0125 - acc: 0.5641 - val_loss: 0.0313 - val_acc: 0.5188\n",
            "Epoch 8/10\n",
            " 99/100 [============================>.] - ETA: 1s - loss: 0.0108 - acc: 0.5584\n",
            "Epoch 00008: val_loss did not improve from 0.03125\n",
            "100/100 [==============================] - 155s 2s/step - loss: 0.0115 - acc: 0.5572 - val_loss: 0.0614 - val_acc: 0.5428\n",
            "Epoch 9/10\n",
            " 99/100 [============================>.] - ETA: 1s - loss: 0.0060 - acc: 0.5748\n",
            "Epoch 00009: val_loss improved from 0.03125 to 0.02356, saving model to ./checkpoints/weights_09_0.49.hdf5\n",
            "100/100 [==============================] - 157s 2s/step - loss: 0.0060 - acc: 0.5741 - val_loss: 0.0236 - val_acc: 0.4866\n",
            "Epoch 10/10\n",
            " 99/100 [============================>.] - ETA: 1s - loss: 0.0060 - acc: 0.5874\n",
            "Epoch 00010: val_loss did not improve from 0.02356\n",
            "100/100 [==============================] - 155s 2s/step - loss: 0.0059 - acc: 0.5881 - val_loss: 0.1015 - val_acc: 0.6300\n"
          ],
          "name": "stdout"
        }
      ]
    },
    {
      "metadata": {
        "id": "Ly9dONGNr_X7",
        "colab_type": "code",
        "colab": {
          "base_uri": "https://localhost:8080/",
          "height": 51
        },
        "outputId": "0c31576b-bdb6-4092-b2e4-27b581332c73"
      },
      "cell_type": "code",
      "source": [
        "!ls checkpoints"
      ],
      "execution_count": 33,
      "outputs": [
        {
          "output_type": "stream",
          "text": [
            "weights_01_0.43.hdf5  weights_05_0.49.hdf5  weights_09_0.49.hdf5\n",
            "weights_02_0.48.hdf5  weights_07_0.52.hdf5\n"
          ],
          "name": "stdout"
        }
      ]
    },
    {
      "metadata": {
        "id": "RJVoTlllMizq",
        "colab_type": "code",
        "colab": {
          "base_uri": "https://localhost:8080/",
          "height": 51
        },
        "outputId": "be2f24dc-4d0f-4564-d2b7-669665b8d544"
      },
      "cell_type": "code",
      "source": [
        "metrics = model.evaluate(valid_dataset,steps=50)\n",
        "print(\"model accuracy:\",metrics[1])"
      ],
      "execution_count": 34,
      "outputs": [
        {
          "output_type": "stream",
          "text": [
            "50/50 [==============================] - 27s 535ms/step - loss: 0.1001 - acc: 0.6300\n",
            "model accuracy: 0.63\n"
          ],
          "name": "stdout"
        }
      ]
    },
    {
      "metadata": {
        "id": "g3DHWDJB5ynT",
        "colab_type": "code",
        "colab": {}
      },
      "cell_type": "code",
      "source": [
        "# model.load_weights('./checkpoints/weights_05_0.93.hdf5')"
      ],
      "execution_count": 0,
      "outputs": []
    },
    {
      "metadata": {
        "id": "Gw1jNfsW54si",
        "colab_type": "text"
      },
      "cell_type": "markdown",
      "source": [
        "### Make some predictions"
      ]
    },
    {
      "metadata": {
        "id": "SemGlOWE58d1",
        "colab_type": "code",
        "colab": {
          "base_uri": "https://localhost:8080/",
          "height": 34
        },
        "outputId": "8fb9846b-35a5-4253-8b59-5db57295cf4c"
      },
      "cell_type": "code",
      "source": [
        "preds = model.predict(valid_dataset,steps=10)\n",
        "preds = preds.argmax(axis=-1)\n",
        "\n",
        "preds.shape"
      ],
      "execution_count": 37,
      "outputs": [
        {
          "output_type": "execute_result",
          "data": {
            "text/plain": [
              "(320,)"
            ]
          },
          "metadata": {
            "tags": []
          },
          "execution_count": 37
        }
      ]
    },
    {
      "metadata": {
        "id": "cKmG6nu56G9s",
        "colab_type": "code",
        "colab": {
          "base_uri": "https://localhost:8080/",
          "height": 34
        },
        "outputId": "d1707cc6-7398-4ec0-bded-95ecdf8c01c8"
      },
      "cell_type": "code",
      "source": [
        "test_labels = val_labels_list[0:320]\n",
        "len(test_labels)"
      ],
      "execution_count": 38,
      "outputs": [
        {
          "output_type": "execute_result",
          "data": {
            "text/plain": [
              "320"
            ]
          },
          "metadata": {
            "tags": []
          },
          "execution_count": 38
        }
      ]
    },
    {
      "metadata": {
        "id": "0AxQGhRx6PLM",
        "colab_type": "code",
        "colab": {}
      },
      "cell_type": "code",
      "source": [
        ""
      ],
      "execution_count": 0,
      "outputs": []
    },
    {
      "metadata": {
        "id": "Pjl4IwB-6RAV",
        "colab_type": "text"
      },
      "cell_type": "markdown",
      "source": [
        "### Make a Confusion Matrix"
      ]
    },
    {
      "metadata": {
        "id": "YDbZSq1A6VId",
        "colab_type": "code",
        "colab": {}
      },
      "cell_type": "code",
      "source": [
        "from sklearn.metrics import confusion_matrix\n",
        "import itertools\n",
        "\n",
        "cm = confusion_matrix(test_labels,preds)"
      ],
      "execution_count": 0,
      "outputs": []
    },
    {
      "metadata": {
        "id": "D0MMNuDp6bkf",
        "colab_type": "code",
        "colab": {}
      },
      "cell_type": "code",
      "source": [
        "def plot_confusion_matrix(cm, classes,\n",
        "                          normalize=False,\n",
        "                          title='Confusion matrix',\n",
        "                          cmap=plt.cm.Blues):\n",
        "    \"\"\"\n",
        "    This function prints and plots the confusion matrix.\n",
        "    Normalization can be applied by setting `normalize=True`.\n",
        "    \"\"\"\n",
        "    if normalize:\n",
        "        cm = cm.astype('float') / cm.sum(axis=1)[:, np.newaxis]\n",
        "        print(\"Normalized confusion matrix\")\n",
        "    else:\n",
        "        print('Confusion matrix, without normalization')\n",
        "\n",
        "    print(cm)\n",
        "\n",
        "    plt.imshow(cm, interpolation='nearest', cmap=cmap)\n",
        "    plt.title(title)\n",
        "    plt.colorbar()\n",
        "    tick_marks = np.arange(len(classes))\n",
        "    plt.xticks(tick_marks, classes, rotation=45)\n",
        "    plt.yticks(tick_marks, classes)\n",
        "\n",
        "    fmt = '.2f' if normalize else 'd'\n",
        "    thresh = cm.max() / 2.\n",
        "    for i, j in itertools.product(range(cm.shape[0]), range(cm.shape[1])):\n",
        "        plt.text(j, i, format(cm[i, j], fmt),\n",
        "                 horizontalalignment=\"center\",\n",
        "                 color=\"white\" if cm[i, j] > thresh else \"black\")\n",
        "\n",
        "    plt.tight_layout()\n",
        "    plt.ylabel('True label')\n",
        "    plt.xlabel('Predicted label')\n",
        "\n"
      ],
      "execution_count": 0,
      "outputs": []
    },
    {
      "metadata": {
        "id": "PM2or6AR6e7g",
        "colab_type": "code",
        "colab": {
          "base_uri": "https://localhost:8080/",
          "height": 990
        },
        "outputId": "31cbfa2a-2596-4d47-953a-8bff101838e7"
      },
      "cell_type": "code",
      "source": [
        "cm_plot_labels = names\n",
        "\n",
        "# # Plot normalized confusion matrix\n",
        "plt.figure(figsize=(16,8))\n",
        "plot_confusion_matrix(cm, cm_plot_labels, normalize=True,\n",
        "                      title='Seedlings Normalized')\n",
        "\n",
        "plt.show()"
      ],
      "execution_count": 41,
      "outputs": [
        {
          "output_type": "stream",
          "text": [
            "Normalized confusion matrix\n",
            "[[1.         0.         0.         0.         0.         0.\n",
            "  0.         0.         0.         0.         0.        ]\n",
            " [0.         1.         0.         0.         0.         0.\n",
            "  0.         0.         0.         0.         0.        ]\n",
            " [0.08333333 0.02083333 0.89583333 0.         0.         0.\n",
            "  0.         0.         0.         0.         0.        ]\n",
            " [0.23076923 0.         0.         0.76923077 0.         0.\n",
            "  0.         0.         0.         0.         0.        ]\n",
            " [0.51851852 0.40740741 0.07407407 0.         0.         0.\n",
            "  0.         0.         0.         0.         0.        ]\n",
            " [1.         0.         0.         0.         0.         0.\n",
            "  0.         0.         0.         0.         0.        ]\n",
            " [0.16666667 0.44444444 0.22222222 0.16666667 0.         0.\n",
            "  0.         0.         0.         0.         0.        ]\n",
            " [0.42857143 0.05714286 0.51428571 0.         0.         0.\n",
            "  0.         0.         0.         0.         0.        ]\n",
            " [0.19047619 0.14285714 0.61904762 0.04761905 0.         0.\n",
            "  0.         0.         0.         0.         0.        ]\n",
            " [0.325      0.15       0.525      0.         0.         0.\n",
            "  0.         0.         0.         0.         0.        ]\n",
            " [0.27586207 0.24137931 0.37931034 0.10344828 0.         0.\n",
            "  0.         0.         0.         0.         0.        ]]\n"
          ],
          "name": "stdout"
        },
        {
          "output_type": "display_data",
          "data": {
            "image/png": "[encoded data removed]",
            "text/plain": [
              "<Figure size 1152x576 with 2 Axes>"
            ]
          },
          "metadata": {
            "tags": []
          }
        }
      ]
    },
    {
      "metadata": {
        "id": "RBAoo_v06mZ8",
        "colab_type": "code",
        "colab": {}
      },
      "cell_type": "code",
      "source": [
        ""
      ],
      "execution_count": 0,
      "outputs": []
    },
    {
      "metadata": {
        "id": "XyS_3SzZ6xXM",
        "colab_type": "text"
      },
      "cell_type": "markdown",
      "source": [
        "### Save the Model and weights"
      ]
    },
    {
      "metadata": {
        "id": "VGTTcQCW61oe",
        "colab_type": "code",
        "colab": {}
      },
      "cell_type": "code",
      "source": [
        "model.save('seedlings.h5')"
      ],
      "execution_count": 0,
      "outputs": []
    },
    {
      "metadata": {
        "id": "LpWtQGFL66my",
        "colab_type": "code",
        "colab": {}
      },
      "cell_type": "code",
      "source": [
        "model.save_weights('seedlings_weights.h5', save_format='h5')"
      ],
      "execution_count": 0,
      "outputs": []
    },
    {
      "metadata": {
        "id": "BMZxjS3e6-05",
        "colab_type": "code",
        "colab": {
          "base_uri": "https://localhost:8080/",
          "height": 119
        },
        "outputId": "648b64b5-5d93-44a8-9bac-a8d754bf9dc7"
      },
      "cell_type": "code",
      "source": [
        "!ls"
      ],
      "execution_count": 44,
      "outputs": [
        {
          "output_type": "stream",
          "text": [
            " Black-grass\t    'Fat Hen'\t\t  seedlings_weights.h5\n",
            " Charlock\t    'Loose Silky-bent'\t 'Shepherd’s Purse'\n",
            " checkpoints\t     Maize\t\t 'Small-flowered Cranesbill'\n",
            " Cleavers\t     sample_data\t 'Sugar beet'\n",
            "'Common Chickweed'  'Scentless Mayweed'\n",
            "'Common wheat'\t     seedlings.h5\n"
          ],
          "name": "stdout"
        }
      ]
    },
    {
      "metadata": {
        "id": "zjx21RI67Bad",
        "colab_type": "code",
        "colab": {
          "base_uri": "https://localhost:8080/",
          "height": 139
        },
        "outputId": "9e9f3511-679b-4084-9bd6-b1071ad1f2a6"
      },
      "cell_type": "code",
      "source": [
        "model.save_weights('./seedlings_tf')"
      ],
      "execution_count": 45,
      "outputs": [
        {
          "output_type": "stream",
          "text": [
            "WARNING:tensorflow:This model was compiled with a Keras optimizer (<tensorflow.python.keras.optimizers.Adam object at 0x7f9e3bd7b048>) but is being saved in TensorFlow format with `save_weights`. The model's weights will be saved, but unlike with TensorFlow optimizers in the TensorFlow format the optimizer's state will not be saved.\n",
            "\n",
            "Consider using a TensorFlow optimizer from `tf.train`.\n",
            "WARNING:tensorflow:From /usr/local/lib/python3.6/dist-packages/tensorflow/python/keras/engine/network.py:1436: update_checkpoint_state (from tensorflow.python.training.checkpoint_management) is deprecated and will be removed in a future version.\n",
            "Instructions for updating:\n",
            "Use tf.train.CheckpointManager to manage checkpoints rather than manually editing the Checkpoint proto.\n"
          ],
          "name": "stdout"
        }
      ]
    },
    {
      "metadata": {
        "id": "nN-cX5kJ7Gv3",
        "colab_type": "code",
        "colab": {
          "base_uri": "https://localhost:8080/",
          "height": 187
        },
        "outputId": "0f2e9cfc-5c02-46c8-de97-ae910496887f"
      },
      "cell_type": "code",
      "source": [
        "!ls"
      ],
      "execution_count": 46,
      "outputs": [
        {
          "output_type": "stream",
          "text": [
            " Black-grass\t     sample_data\n",
            " Charlock\t    'Scentless Mayweed'\n",
            " checkpoint\t     seedlings.h5\n",
            " checkpoints\t     seedlings_tf.data-00000-of-00001\n",
            " Cleavers\t     seedlings_tf.index\n",
            "'Common Chickweed'   seedlings_weights.h5\n",
            "'Common wheat'\t    'Shepherd’s Purse'\n",
            "'Fat Hen'\t    'Small-flowered Cranesbill'\n",
            "'Loose Silky-bent'  'Sugar beet'\n",
            " Maize\n"
          ],
          "name": "stdout"
        }
      ]
    },
    {
      "metadata": {
        "id": "DzQQZ2Kc7LQb",
        "colab_type": "code",
        "colab": {}
      },
      "cell_type": "code",
      "source": [
        "# model = load_model('flowers.h5')"
      ],
      "execution_count": 0,
      "outputs": []
    },
    {
      "metadata": {
        "id": "2wZDYUDn7YNh",
        "colab_type": "text"
      },
      "cell_type": "markdown",
      "source": [
        "### Make some predictions"
      ]
    },
    {
      "metadata": {
        "id": "fHT1xeFn7Rlk",
        "colab_type": "code",
        "colab": {
          "base_uri": "https://localhost:8080/",
          "height": 204
        },
        "outputId": "5c849dc9-6c67-4cd1-f1ee-d7271c53eef2"
      },
      "cell_type": "code",
      "source": [
        "df_val.head()"
      ],
      "execution_count": 65,
      "outputs": [
        {
          "output_type": "execute_result",
          "data": {
            "text/html": [
              "<div>\n",
              "<style scoped>\n",
              "    .dataframe tbody tr th:only-of-type {\n",
              "        vertical-align: middle;\n",
              "    }\n",
              "\n",
              "    .dataframe tbody tr th {\n",
              "        vertical-align: top;\n",
              "    }\n",
              "\n",
              "    .dataframe thead th {\n",
              "        text-align: right;\n",
              "    }\n",
              "</style>\n",
              "<table border=\"1\" class=\"dataframe\">\n",
              "  <thead>\n",
              "    <tr style=\"text-align: right;\">\n",
              "      <th></th>\n",
              "      <th>filename</th>\n",
              "      <th>class</th>\n",
              "    </tr>\n",
              "  </thead>\n",
              "  <tbody>\n",
              "    <tr>\n",
              "      <th>0</th>\n",
              "      <td>./Black-grass/102.png</td>\n",
              "      <td>0</td>\n",
              "    </tr>\n",
              "    <tr>\n",
              "      <th>1</th>\n",
              "      <td>./Sugar beet/129.png</td>\n",
              "      <td>11</td>\n",
              "    </tr>\n",
              "    <tr>\n",
              "      <th>2</th>\n",
              "      <td>./Loose Silky-bent/718.png</td>\n",
              "      <td>6</td>\n",
              "    </tr>\n",
              "    <tr>\n",
              "      <th>3</th>\n",
              "      <td>./Cleavers/343.png</td>\n",
              "      <td>2</td>\n",
              "    </tr>\n",
              "    <tr>\n",
              "      <th>4</th>\n",
              "      <td>./Loose Silky-bent/677.png</td>\n",
              "      <td>6</td>\n",
              "    </tr>\n",
              "  </tbody>\n",
              "</table>\n",
              "</div>"
            ],
            "text/plain": [
              "                     filename  class\n",
              "0       ./Black-grass/102.png      0\n",
              "1        ./Sugar beet/129.png     11\n",
              "2  ./Loose Silky-bent/718.png      6\n",
              "3          ./Cleavers/343.png      2\n",
              "4  ./Loose Silky-bent/677.png      6"
            ]
          },
          "metadata": {
            "tags": []
          },
          "execution_count": 65
        }
      ]
    },
    {
      "metadata": {
        "id": "cdnS4Exq7xBt",
        "colab_type": "code",
        "colab": {
          "base_uri": "https://localhost:8080/",
          "height": 188
        },
        "outputId": "24113dca-fb72-46aa-ba74-ee85e4760088"
      },
      "cell_type": "code",
      "source": [
        "from IPython.display import Image\n",
        "\n",
        "image_path = df_val['filename'][5]\n",
        "# image_name = './Cleavers/343.png'\n",
        "# Image(image_path+image_name)\n",
        "Image(image_path)"
      ],
      "execution_count": 60,
      "outputs": [
        {
          "output_type": "execute_result",
          "data": {
            "image/png": "[encoded data removed]",
            "text/plain": [
              "<IPython.core.display.Image object>"
            ]
          },
          "metadata": {
            "tags": []
          },
          "execution_count": 60
        }
      ]
    },
    {
      "metadata": {
        "id": "x2qPzgci8NCl",
        "colab_type": "code",
        "colab": {
          "base_uri": "https://localhost:8080/",
          "height": 34
        },
        "outputId": "040bcf78-4f02-4d14-b551-ec4a41a5ca45"
      },
      "cell_type": "code",
      "source": [
        "from keras.preprocessing import image\n",
        "from keras.applications.imagenet_utils import preprocess_input, decode_predictions\n",
        "import numpy as np\n",
        "\n",
        "# img_path = os.path.join(image_path, image_name)\n",
        "# img = image.load_img(img_path, target_size=(299, 299))\n",
        "# x = image.img_to_array(img)\n",
        "# x = np.expand_dims(x, axis=0)\n",
        "# # x = preprocess_input(x)\n",
        "# print('Input image shape:', x.shape)\n",
        "\n",
        "\n",
        "img_path = os.path.join(image_path)\n",
        "img = image.load_img(img_path, target_size=(299, 299))\n",
        "x = image.img_to_array(img)\n",
        "x = np.expand_dims(x, axis=0)\n",
        "# x = preprocess_input(x)\n",
        "print('Input image shape:', x.shape)"
      ],
      "execution_count": 62,
      "outputs": [
        {
          "output_type": "stream",
          "text": [
            "Input image shape: (1, 299, 299, 3)\n"
          ],
          "name": "stdout"
        }
      ]
    },
    {
      "metadata": {
        "id": "uybFDgTc90EJ",
        "colab_type": "code",
        "colab": {
          "base_uri": "https://localhost:8080/",
          "height": 51
        },
        "outputId": "451a0a86-8d37-4183-b18c-101d1fb54758"
      },
      "cell_type": "code",
      "source": [
        "pred = model.predict(x)\n",
        "print('Predicted:', pred)\n",
        "\n",
        "print(np.argmax(pred))"
      ],
      "execution_count": 63,
      "outputs": [
        {
          "output_type": "stream",
          "text": [
            "Predicted: [[9.9958581e-01 3.0958158e-09 4.0898303e-04 2.4658764e-06 2.6997282e-06]]\n",
            "0\n"
          ],
          "name": "stdout"
        }
      ]
    },
    {
      "metadata": {
        "id": "33n495bE-G4v",
        "colab_type": "code",
        "colab": {
          "base_uri": "https://localhost:8080/",
          "height": 34
        },
        "outputId": "a34f143a-eb47-468e-f60d-98b4b122111a"
      },
      "cell_type": "code",
      "source": [
        "result= np.argmax(pred)\n",
        "if result==0:\n",
        "    print('Its Black-grass')\n",
        "elif result==1:\n",
        "    print('Its Charlock')\n",
        "elif result==2:\n",
        "    print('Its Cleavers')\n",
        "elif result==3:\n",
        "    print('Its Common Chickweed')\n",
        "elif result==4:\n",
        "    print('Its Common wheat')\n",
        "elif result==5:\n",
        "    print('Its Fat Hen')\n",
        "elif result==6:\n",
        "    print('Its Loose Silky-bent')\n",
        "elif result==7:\n",
        "    print('Its Maize')\n",
        "elif result==8:\n",
        "    print('Its Scentless Mayweed')    \n",
        "elif result==9:\n",
        "    print('Its Sheperds Purse')\n",
        "elif result==10:\n",
        "    print('Its Small-flowered Cranesbill')\n",
        "elif result==11:\n",
        "    print('Its Sugar beet')      \n",
        "    "
      ],
      "execution_count": 66,
      "outputs": [
        {
          "output_type": "stream",
          "text": [
            "Its Black-grass\n"
          ],
          "name": "stdout"
        }
      ]
    },
    {
      "metadata": {
        "id": "2iHl7I0g_tje",
        "colab_type": "code",
        "colab": {}
      },
      "cell_type": "code",
      "source": [
        ""
      ],
      "execution_count": 0,
      "outputs": []
    },
    {
      "metadata": {
        "id": "pc-IRmS8_1hu",
        "colab_type": "text"
      },
      "cell_type": "markdown",
      "source": [
        "### Saving the model and weights back to local machine"
      ]
    },
    {
      "metadata": {
        "id": "6NxcZM3t_5Li",
        "colab_type": "code",
        "colab": {}
      },
      "cell_type": "code",
      "source": [
        "# Downloading from colab to local machine\n",
        "\n",
        "from google.colab import files\n",
        "\n",
        "files.download('seedlings.h5')  "
      ],
      "execution_count": 0,
      "outputs": []
    },
    {
      "metadata": {
        "id": "aycjVIj6AESf",
        "colab_type": "code",
        "colab": {}
      },
      "cell_type": "code",
      "source": [
        ""
      ],
      "execution_count": 0,
      "outputs": []
    }
  ]
}